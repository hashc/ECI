{
 "cells": [
  {
   "cell_type": "code",
   "execution_count": 1,
   "metadata": {},
   "outputs": [],
   "source": [
    "import matplotlib.pyplot as plt\n",
    "import numpy as np\n",
    "import scipy.sparse.linalg \n",
    "import scipy\n",
    "import pandas as pd\n",
    "import copy\n",
    "import seaborn as sns\n",
    "import pickle\n",
    "from scipy import sparse\n",
    "from ECI import *"
   ]
  },
  {
   "cell_type": "markdown",
   "metadata": {},
   "source": [
    "# 矩阵法计算ECI"
   ]
  },
  {
   "cell_type": "markdown",
   "metadata": {},
   "source": [
    "# example\n",
    "\n",
    "--|steel|oil|chip|bean|clothes\n",
    "--|--|--|--|--|--\n",
    "USA|1|1|1|1|0\n",
    "China|1|0|0|1|1\n",
    "Viet Nam|0|0|0|1|1"
   ]
  },
  {
   "cell_type": "code",
   "execution_count": 75,
   "metadata": {},
   "outputs": [],
   "source": [
    "# 实际例子\n",
    "product_name = [\"steel\",\"oil\",\"chip\",\"bean\",\"clothes\"]\n",
    "country_name = [\"USA\",\"China\",\"Viet Nam\"]\n",
    "X = ['USA', 'USA', 'USA', 'USA', 'China', 'China', 'China', 'Viet Nam', 'Viet Nam']\n",
    "Y = ['steel', 'oil', 'chip', 'bean', 'steel', 'bean', 'clothes', 'bean', 'clothes']"
   ]
  },
  {
   "cell_type": "code",
   "execution_count": 22,
   "metadata": {},
   "outputs": [],
   "source": [
    "L_x=[ 'USA', 'China','Viet Nam']\n",
    "L_y = [\"steel\",\"oil\",\"chip\",\"bean\",\"clothes\"]"
   ]
  },
  {
   "cell_type": "code",
   "execution_count": 74,
   "metadata": {},
   "outputs": [],
   "source": [
    "#L_x = list(set(X))\n",
    "#L_y = list(set(Y))\n",
    "x2id = dict(zip(L_x,range(len(L_x))))\n",
    "y2id = dict(zip(L_y,range(len(L_y))))\n",
    "x = [x2id[xi] for xi in X]\n",
    "y = [y2id[yi] for yi in Y]\n",
    "data = [1]*len(x)\n",
    "m,n = len(x2id),len(y2id)\n",
    "M = sparse.csc_matrix((data,(x,y)),shape=(m,n))"
   ]
  },
  {
   "cell_type": "code",
   "execution_count": 24,
   "metadata": {},
   "outputs": [
    {
     "name": "stdout",
     "output_type": "stream",
     "text": [
      "==Time 0.00==\n",
      "['USA', 'China', 'Viet Nam']\n",
      "[ 1.37652932 -0.40741722 -0.96911209]\n",
      "==================================================\n",
      "['steel', 'oil', 'chip', 'bean', 'clothes']\n",
      "[-0.0316507   1.08360666  1.08360666 -0.63750372 -1.4980589 ]\n"
     ]
    }
   ],
   "source": [
    "M = sparse.csc_matrix((data,(x,y)),shape=(m,n))\n",
    "M = np.matrix(M.toarray())\n",
    "eci,pci = Get_eci_pci(M)\n",
    "eci = Get_z_score(eci)\n",
    "pci = Get_z_score(pci)\n",
    "print(L_x)\n",
    "print(eci)\n",
    "print('='*50)\n",
    "print(L_y)\n",
    "print(pci)"
   ]
  },
  {
   "cell_type": "code",
   "execution_count": 76,
   "metadata": {},
   "outputs": [],
   "source": [
    "d = M.sum(1).T.tolist()[0]\n",
    "u = M.sum(0).tolist()[0]"
   ]
  },
  {
   "cell_type": "code",
   "execution_count": 77,
   "metadata": {},
   "outputs": [],
   "source": [
    "nd,nu = len(d),len(u)\n",
    "D1 = scipy.sparse.csc_matrix(([1.0/i if i>0 else 0. for i in d], (range(nd), range(nd))),shape=(nd,nd))\n",
    "U1 = scipy.sparse.csc_matrix(([1.0/i if i>0 else 0. for i in u], (range(nu), range(nu))),shape=(nu,nu))\n",
    "M = sparse.csc_matrix(M)\n",
    "mcp1 = D1 * M"
   ]
  },
  {
   "cell_type": "code",
   "execution_count": 95,
   "metadata": {},
   "outputs": [
    {
     "data": {
      "text/plain": [
       "array([[0.25      , 0.25      , 0.25      , 0.25      , 0.        ],\n",
       "       [0.33333333, 0.        , 0.        , 0.33333333, 0.33333333],\n",
       "       [0.        , 0.        , 0.        , 0.5       , 0.5       ]])"
      ]
     },
     "execution_count": 95,
     "metadata": {},
     "output_type": "execute_result"
    }
   ],
   "source": [
    "mcp1 = D1 * M\n",
    "mcp1.toarray()"
   ]
  },
  {
   "cell_type": "code",
   "execution_count": 79,
   "metadata": {},
   "outputs": [
    {
     "data": {
      "text/plain": [
       "array([[0.5       , 0.5       , 0.        ],\n",
       "       [1.        , 0.        , 0.        ],\n",
       "       [1.        , 0.        , 0.        ],\n",
       "       [0.33333333, 0.33333333, 0.33333333],\n",
       "       [0.        , 0.5       , 0.5       ]])"
      ]
     },
     "execution_count": 79,
     "metadata": {},
     "output_type": "execute_result"
    }
   ],
   "source": [
    "mcp2 = M * U1\n",
    "mcp2.toarray().T"
   ]
  },
  {
   "cell_type": "code",
   "execution_count": 97,
   "metadata": {},
   "outputs": [
    {
     "data": {
      "text/plain": [
       "array([[0.29166667, 0.125     , 0.125     , 0.29166667, 0.16666667],\n",
       "       [0.25      , 0.25      , 0.25      , 0.25      , 0.        ],\n",
       "       [0.25      , 0.25      , 0.25      , 0.25      , 0.        ],\n",
       "       [0.19444444, 0.08333333, 0.08333333, 0.36111111, 0.27777778],\n",
       "       [0.16666667, 0.        , 0.        , 0.41666667, 0.41666667]])"
      ]
     },
     "execution_count": 97,
     "metadata": {},
     "output_type": "execute_result"
    }
   ],
   "source": [
    "Mpp = mcp2.T @ mcp1\n",
    "Mpp.toarray()"
   ]
  },
  {
   "cell_type": "code",
   "execution_count": 99,
   "metadata": {},
   "outputs": [],
   "source": [
    "eigvals, eigvecs = scipy.sparse.linalg.eigs(Mpp, k=3)"
   ]
  },
  {
   "cell_type": "code",
   "execution_count": 100,
   "metadata": {},
   "outputs": [
    {
     "data": {
      "text/plain": [
       "(array([1.        +0.j, 0.07766595+0.j, 0.49177849+0.j]),\n",
       " array([[ 0.4472136 +0.j,  0.82181977+0.j, -0.11954259+0.j],\n",
       "        [ 0.4472136 +0.j, -0.35981534+0.j, -0.59571444+0.j],\n",
       "        [ 0.4472136 +0.j, -0.35981534+0.j, -0.59571444+0.j],\n",
       "        [ 0.4472136 +0.j, -0.2139707 +0.j,  0.13913327+0.j],\n",
       "        [ 0.4472136 +0.j, -0.14104838+0.j,  0.50655712+0.j]]))"
      ]
     },
     "execution_count": 100,
     "metadata": {},
     "output_type": "execute_result"
    }
   ],
   "source": [
    "eigvals, eigvecs "
   ]
  },
  {
   "cell_type": "code",
   "execution_count": 102,
   "metadata": {},
   "outputs": [],
   "source": [
    "eig_index2 = eigvals.argsort()[-2]\n",
    "kp2 = eigvecs[:, eig_index2]"
   ]
  },
  {
   "cell_type": "code",
   "execution_count": 105,
   "metadata": {},
   "outputs": [
    {
     "data": {
      "text/plain": [
       "array([-0.11954259+0.j, -0.59571444+0.j, -0.59571444+0.j,  0.13913327+0.j,\n",
       "        0.50655712+0.j])"
      ]
     },
     "execution_count": 105,
     "metadata": {},
     "output_type": "execute_result"
    }
   ],
   "source": [
    "kp2"
   ]
  },
  {
   "cell_type": "code",
   "execution_count": 103,
   "metadata": {},
   "outputs": [],
   "source": [
    "kc2 = mcp1 @ kp2"
   ]
  },
  {
   "cell_type": "code",
   "execution_count": 104,
   "metadata": {},
   "outputs": [
    {
     "data": {
      "text/plain": [
       "array([-0.29295955+0.j,  0.1753826 +0.j,  0.3228452 +0.j])"
      ]
     },
     "execution_count": 104,
     "metadata": {},
     "output_type": "execute_result"
    }
   ],
   "source": [
    "kc2"
   ]
  },
  {
   "cell_type": "code",
   "execution_count": 106,
   "metadata": {},
   "outputs": [],
   "source": [
    "s2 = np.sign(np.corrcoef(M.sum(1).reshape(-1), kc2.reshape(-1))[0, 1])"
   ]
  },
  {
   "cell_type": "code",
   "execution_count": 108,
   "metadata": {},
   "outputs": [],
   "source": [
    "eci2 = s2 * kc2\n",
    "pci2 = s2 * kp2"
   ]
  },
  {
   "cell_type": "code",
   "execution_count": 109,
   "metadata": {},
   "outputs": [
    {
     "data": {
      "text/plain": [
       "array([ 0.29295955-0.j, -0.1753826 +0.j, -0.3228452 +0.j])"
      ]
     },
     "execution_count": 109,
     "metadata": {},
     "output_type": "execute_result"
    }
   ],
   "source": [
    "eci2"
   ]
  },
  {
   "cell_type": "code",
   "execution_count": 110,
   "metadata": {},
   "outputs": [
    {
     "data": {
      "text/plain": [
       "array([ 0.11954259-0.j,  0.59571444-0.j,  0.59571444-0.j, -0.13913327+0.j,\n",
       "       -0.50655712+0.j])"
      ]
     },
     "execution_count": 110,
     "metadata": {},
     "output_type": "execute_result"
    }
   ],
   "source": [
    "pci2"
   ]
  },
  {
   "cell_type": "markdown",
   "metadata": {},
   "source": [
    "# 稀疏矩阵方法"
   ]
  },
  {
   "cell_type": "code",
   "execution_count": 6,
   "metadata": {},
   "outputs": [
    {
     "name": "stdout",
     "output_type": "stream",
     "text": [
      "==Time 0.00==\n",
      "['Viet Nam', 'USA', 'China']\n",
      "[-0.96911209  1.37652932 -0.40741722]\n",
      "==================================================\n",
      "['steel', 'chip', 'oil', 'bean', 'clothes']\n",
      "[-0.0316507   1.08360666  1.08360666 -0.63750372 -1.4980589 ]\n"
     ]
    }
   ],
   "source": [
    "data = [1]*len(x)\n",
    "m,n = len(x2id),len(y2id)\n",
    "M = sparse.csc_matrix((data,(x,y)),shape=(m,n))\n",
    "eci,pci,eci3,pci3 = Get_eci_pci_sparse(M)\n",
    "eci = Get_z_score(eci)\n",
    "pci = Get_z_score(pci)\n",
    "print(L_x)\n",
    "print(eci)\n",
    "print('='*50)\n",
    "print(L_y)\n",
    "print(pci)"
   ]
  },
  {
   "cell_type": "markdown",
   "metadata": {},
   "source": [
    "# 利用 ecomplexity 计算\n"
   ]
  },
  {
   "cell_type": "code",
   "execution_count": 6,
   "metadata": {},
   "outputs": [
    {
     "name": "stdout",
     "output_type": "stream",
     "text": [
      "2019\n"
     ]
    }
   ],
   "source": [
    "#构建原始数据\n",
    "from ecomplexity import ecomplexity\n",
    "from ecomplexity import proximity\n",
    "# Calculate complexity\n",
    "trade_cols = {'time':'year', 'loc':'name', 'prod':'skill', 'val':'value'}\n",
    "Name=[]\n",
    "Skill=[]\n",
    "time=[]\n",
    "value=[]\n",
    "\n",
    "time=[2019]*len(x)    \n",
    "value=[1.]*len(x)   \n",
    "SData=pd.DataFrame({\"year\":time,'name':x,\"skill\":y,\"value\":value})\n",
    "cdata = ecomplexity(SData, trade_cols,presence_test=\"manual\")#不使用过滤函数"
   ]
  },
  {
   "cell_type": "code",
   "execution_count": 7,
   "metadata": {
    "scrolled": false
   },
   "outputs": [
    {
     "data": {
      "text/html": [
       "<div>\n",
       "<style scoped>\n",
       "    .dataframe tbody tr th:only-of-type {\n",
       "        vertical-align: middle;\n",
       "    }\n",
       "\n",
       "    .dataframe tbody tr th {\n",
       "        vertical-align: top;\n",
       "    }\n",
       "\n",
       "    .dataframe thead th {\n",
       "        text-align: right;\n",
       "    }\n",
       "</style>\n",
       "<table border=\"1\" class=\"dataframe\">\n",
       "  <thead>\n",
       "    <tr style=\"text-align: right;\">\n",
       "      <th></th>\n",
       "      <th>name</th>\n",
       "      <th>skill</th>\n",
       "      <th>value</th>\n",
       "      <th>year</th>\n",
       "      <th>diversity</th>\n",
       "      <th>ubiquity</th>\n",
       "      <th>mcp</th>\n",
       "      <th>eci</th>\n",
       "      <th>pci</th>\n",
       "      <th>density</th>\n",
       "      <th>coi</th>\n",
       "      <th>cog</th>\n",
       "    </tr>\n",
       "  </thead>\n",
       "  <tbody>\n",
       "    <tr>\n",
       "      <th>0</th>\n",
       "      <td>0</td>\n",
       "      <td>0</td>\n",
       "      <td>1.0</td>\n",
       "      <td>2019</td>\n",
       "      <td>3.0</td>\n",
       "      <td>3.0</td>\n",
       "      <td>1.0</td>\n",
       "      <td>-0.407417</td>\n",
       "      <td>-0.269341</td>\n",
       "      <td>0.777778</td>\n",
       "      <td>0.998667</td>\n",
       "      <td>0.000000</td>\n",
       "    </tr>\n",
       "    <tr>\n",
       "      <th>1</th>\n",
       "      <td>0</td>\n",
       "      <td>1</td>\n",
       "      <td>0.0</td>\n",
       "      <td>2019</td>\n",
       "      <td>3.0</td>\n",
       "      <td>1.0</td>\n",
       "      <td>0.0</td>\n",
       "      <td>-0.407417</td>\n",
       "      <td>2.529743</td>\n",
       "      <td>0.294118</td>\n",
       "      <td>0.998667</td>\n",
       "      <td>1.601729</td>\n",
       "    </tr>\n",
       "    <tr>\n",
       "      <th>2</th>\n",
       "      <td>0</td>\n",
       "      <td>2</td>\n",
       "      <td>1.0</td>\n",
       "      <td>2019</td>\n",
       "      <td>3.0</td>\n",
       "      <td>2.0</td>\n",
       "      <td>1.0</td>\n",
       "      <td>-0.407417</td>\n",
       "      <td>0.715973</td>\n",
       "      <td>0.684211</td>\n",
       "      <td>0.998667</td>\n",
       "      <td>0.000000</td>\n",
       "    </tr>\n",
       "    <tr>\n",
       "      <th>3</th>\n",
       "      <td>0</td>\n",
       "      <td>3</td>\n",
       "      <td>1.0</td>\n",
       "      <td>2019</td>\n",
       "      <td>3.0</td>\n",
       "      <td>2.0</td>\n",
       "      <td>1.0</td>\n",
       "      <td>-0.407417</td>\n",
       "      <td>-1.668883</td>\n",
       "      <td>1.000000</td>\n",
       "      <td>0.998667</td>\n",
       "      <td>0.000000</td>\n",
       "    </tr>\n",
       "    <tr>\n",
       "      <th>4</th>\n",
       "      <td>0</td>\n",
       "      <td>4</td>\n",
       "      <td>0.0</td>\n",
       "      <td>2019</td>\n",
       "      <td>3.0</td>\n",
       "      <td>1.0</td>\n",
       "      <td>0.0</td>\n",
       "      <td>-0.407417</td>\n",
       "      <td>2.529743</td>\n",
       "      <td>0.294118</td>\n",
       "      <td>0.998667</td>\n",
       "      <td>1.601729</td>\n",
       "    </tr>\n",
       "    <tr>\n",
       "      <th>5</th>\n",
       "      <td>1</td>\n",
       "      <td>0</td>\n",
       "      <td>1.0</td>\n",
       "      <td>2019</td>\n",
       "      <td>4.0</td>\n",
       "      <td>3.0</td>\n",
       "      <td>1.0</td>\n",
       "      <td>1.376529</td>\n",
       "      <td>-0.269341</td>\n",
       "      <td>0.777778</td>\n",
       "      <td>-1.366512</td>\n",
       "      <td>-0.000000</td>\n",
       "    </tr>\n",
       "    <tr>\n",
       "      <th>6</th>\n",
       "      <td>1</td>\n",
       "      <td>1</td>\n",
       "      <td>1.0</td>\n",
       "      <td>2019</td>\n",
       "      <td>4.0</td>\n",
       "      <td>1.0</td>\n",
       "      <td>1.0</td>\n",
       "      <td>1.376529</td>\n",
       "      <td>2.529743</td>\n",
       "      <td>1.000000</td>\n",
       "      <td>-1.366512</td>\n",
       "      <td>0.000000</td>\n",
       "    </tr>\n",
       "    <tr>\n",
       "      <th>7</th>\n",
       "      <td>1</td>\n",
       "      <td>2</td>\n",
       "      <td>1.0</td>\n",
       "      <td>2019</td>\n",
       "      <td>4.0</td>\n",
       "      <td>2.0</td>\n",
       "      <td>1.0</td>\n",
       "      <td>1.376529</td>\n",
       "      <td>0.715973</td>\n",
       "      <td>0.842105</td>\n",
       "      <td>-1.366512</td>\n",
       "      <td>-0.000000</td>\n",
       "    </tr>\n",
       "    <tr>\n",
       "      <th>8</th>\n",
       "      <td>1</td>\n",
       "      <td>3</td>\n",
       "      <td>0.0</td>\n",
       "      <td>2019</td>\n",
       "      <td>4.0</td>\n",
       "      <td>2.0</td>\n",
       "      <td>0.0</td>\n",
       "      <td>1.376529</td>\n",
       "      <td>-1.668883</td>\n",
       "      <td>0.538462</td>\n",
       "      <td>-1.366512</td>\n",
       "      <td>-0.890543</td>\n",
       "    </tr>\n",
       "    <tr>\n",
       "      <th>9</th>\n",
       "      <td>1</td>\n",
       "      <td>4</td>\n",
       "      <td>1.0</td>\n",
       "      <td>2019</td>\n",
       "      <td>4.0</td>\n",
       "      <td>1.0</td>\n",
       "      <td>1.0</td>\n",
       "      <td>1.376529</td>\n",
       "      <td>2.529743</td>\n",
       "      <td>1.000000</td>\n",
       "      <td>-1.366512</td>\n",
       "      <td>0.000000</td>\n",
       "    </tr>\n",
       "    <tr>\n",
       "      <th>10</th>\n",
       "      <td>2</td>\n",
       "      <td>0</td>\n",
       "      <td>1.0</td>\n",
       "      <td>2019</td>\n",
       "      <td>2.0</td>\n",
       "      <td>3.0</td>\n",
       "      <td>1.0</td>\n",
       "      <td>-0.969112</td>\n",
       "      <td>-0.269341</td>\n",
       "      <td>0.555556</td>\n",
       "      <td>0.367845</td>\n",
       "      <td>0.000000</td>\n",
       "    </tr>\n",
       "    <tr>\n",
       "      <th>11</th>\n",
       "      <td>2</td>\n",
       "      <td>1</td>\n",
       "      <td>0.0</td>\n",
       "      <td>2019</td>\n",
       "      <td>2.0</td>\n",
       "      <td>1.0</td>\n",
       "      <td>0.0</td>\n",
       "      <td>-0.969112</td>\n",
       "      <td>2.529743</td>\n",
       "      <td>0.117647</td>\n",
       "      <td>0.367845</td>\n",
       "      <td>1.673626</td>\n",
       "    </tr>\n",
       "    <tr>\n",
       "      <th>12</th>\n",
       "      <td>2</td>\n",
       "      <td>2</td>\n",
       "      <td>0.0</td>\n",
       "      <td>2019</td>\n",
       "      <td>2.0</td>\n",
       "      <td>2.0</td>\n",
       "      <td>0.0</td>\n",
       "      <td>-0.969112</td>\n",
       "      <td>0.715973</td>\n",
       "      <td>0.368421</td>\n",
       "      <td>0.367845</td>\n",
       "      <td>0.944658</td>\n",
       "    </tr>\n",
       "    <tr>\n",
       "      <th>13</th>\n",
       "      <td>2</td>\n",
       "      <td>3</td>\n",
       "      <td>1.0</td>\n",
       "      <td>2019</td>\n",
       "      <td>2.0</td>\n",
       "      <td>2.0</td>\n",
       "      <td>1.0</td>\n",
       "      <td>-0.969112</td>\n",
       "      <td>-1.668883</td>\n",
       "      <td>0.769231</td>\n",
       "      <td>0.367845</td>\n",
       "      <td>0.000000</td>\n",
       "    </tr>\n",
       "    <tr>\n",
       "      <th>14</th>\n",
       "      <td>2</td>\n",
       "      <td>4</td>\n",
       "      <td>0.0</td>\n",
       "      <td>2019</td>\n",
       "      <td>2.0</td>\n",
       "      <td>1.0</td>\n",
       "      <td>0.0</td>\n",
       "      <td>-0.969112</td>\n",
       "      <td>2.529743</td>\n",
       "      <td>0.117647</td>\n",
       "      <td>0.367845</td>\n",
       "      <td>1.673626</td>\n",
       "    </tr>\n",
       "  </tbody>\n",
       "</table>\n",
       "</div>"
      ],
      "text/plain": [
       "    name  skill  value  year  diversity  ubiquity  mcp       eci       pci  \\\n",
       "0      0      0    1.0  2019        3.0       3.0  1.0 -0.407417 -0.269341   \n",
       "1      0      1    0.0  2019        3.0       1.0  0.0 -0.407417  2.529743   \n",
       "2      0      2    1.0  2019        3.0       2.0  1.0 -0.407417  0.715973   \n",
       "3      0      3    1.0  2019        3.0       2.0  1.0 -0.407417 -1.668883   \n",
       "4      0      4    0.0  2019        3.0       1.0  0.0 -0.407417  2.529743   \n",
       "5      1      0    1.0  2019        4.0       3.0  1.0  1.376529 -0.269341   \n",
       "6      1      1    1.0  2019        4.0       1.0  1.0  1.376529  2.529743   \n",
       "7      1      2    1.0  2019        4.0       2.0  1.0  1.376529  0.715973   \n",
       "8      1      3    0.0  2019        4.0       2.0  0.0  1.376529 -1.668883   \n",
       "9      1      4    1.0  2019        4.0       1.0  1.0  1.376529  2.529743   \n",
       "10     2      0    1.0  2019        2.0       3.0  1.0 -0.969112 -0.269341   \n",
       "11     2      1    0.0  2019        2.0       1.0  0.0 -0.969112  2.529743   \n",
       "12     2      2    0.0  2019        2.0       2.0  0.0 -0.969112  0.715973   \n",
       "13     2      3    1.0  2019        2.0       2.0  1.0 -0.969112 -1.668883   \n",
       "14     2      4    0.0  2019        2.0       1.0  0.0 -0.969112  2.529743   \n",
       "\n",
       "     density       coi       cog  \n",
       "0   0.777778  0.998667  0.000000  \n",
       "1   0.294118  0.998667  1.601729  \n",
       "2   0.684211  0.998667  0.000000  \n",
       "3   1.000000  0.998667  0.000000  \n",
       "4   0.294118  0.998667  1.601729  \n",
       "5   0.777778 -1.366512 -0.000000  \n",
       "6   1.000000 -1.366512  0.000000  \n",
       "7   0.842105 -1.366512 -0.000000  \n",
       "8   0.538462 -1.366512 -0.890543  \n",
       "9   1.000000 -1.366512  0.000000  \n",
       "10  0.555556  0.367845  0.000000  \n",
       "11  0.117647  0.367845  1.673626  \n",
       "12  0.368421  0.367845  0.944658  \n",
       "13  0.769231  0.367845  0.000000  \n",
       "14  0.117647  0.367845  1.673626  "
      ]
     },
     "execution_count": 7,
     "metadata": {},
     "output_type": "execute_result"
    }
   ],
   "source": [
    "cdata"
   ]
  },
  {
   "cell_type": "code",
   "execution_count": 13,
   "metadata": {},
   "outputs": [
    {
     "data": {
      "text/plain": [
       "Text(0.5, 0, 'SPARSE MATRIX')"
      ]
     },
     "execution_count": 13,
     "metadata": {},
     "output_type": "execute_result"
    },
    {
     "data": {
      "image/png": "[encoded data removed]",
      "text/plain": [
       "<Figure size 432x288 with 1 Axes>"
      ]
     },
     "metadata": {
      "needs_background": "light"
     },
     "output_type": "display_data"
    }
   ],
   "source": [
    "plt.scatter(pci,cdata.pci[:5].tolist(),s=100)\n",
    "plt.ylabel(\"Ecomplexity\",fontsize=20)\n",
    "plt.xlabel(\"SPARSE MATRIX\",fontsize=20)"
   ]
  },
  {
   "cell_type": "markdown",
   "metadata": {},
   "source": [
    "# check 完成\n",
    "利用稀疏矩阵计算出来的eci与ecomplexity计算得到的eci完全一致\n",
    "pci部分值不相同，但排序结果一致"
   ]
  }
 ],
 "metadata": {
  "kernelspec": {
   "display_name": "Python 3",
   "language": "python",
   "name": "python3"
  },
  "language_info": {
   "codemirror_mode": {
    "name": "ipython",
    "version": 3
   },
   "file_extension": ".py",
   "mimetype": "text/x-python",
   "name": "python",
   "nbconvert_exporter": "python",
   "pygments_lexer": "ipython3",
   "version": "3.7.3"
  }
 },
 "nbformat": 4,
 "nbformat_minor": 2
}
