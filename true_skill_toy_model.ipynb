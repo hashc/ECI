{
 "cells": [
  {
   "cell_type": "markdown",
   "metadata": {},
   "source": [
    "A问了Q1，A、B、C、E回答了Q1,C回答被接受\n",
    "\n",
    "\n",
    "所以'Q1'>'A','C'>'Q1','C'>'A','C'>'B','C'>'E'\n",
    "\n",
    "\n",
    "以此类推\n",
    "\n",
    "\n",
    "Question：Q1,Q2,Q3,Q4 = -1,-2,-3,-4\n",
    "\n",
    "\n",
    "User：A,B,C,D,E = 1,2,3,4,5"
   ]
  },
  {
   "cell_type": "code",
   "execution_count": 1,
   "metadata": {},
   "outputs": [],
   "source": [
    "%load_ext autoreload\n",
    "%autoreload 2\n",
    "from trueskill import *"
   ]
  },
  {
   "cell_type": "code",
   "execution_count": 190,
   "metadata": {},
   "outputs": [],
   "source": [
    "#winner,loser\n",
    "#需要为问题注明Q\n",
    "toy_data0 = [('Q1','A'),('B','Q1'),('B','A'),]\n"
   ]
  },
  {
   "cell_type": "code",
   "execution_count": 191,
   "metadata": {},
   "outputs": [
    {
     "name": "stdout",
     "output_type": "stream",
     "text": [
      "==iter 1==\r",
      "==iter 2==\r",
      "==Time 0.00==\n",
      "==iter 1==\r",
      "==iter 2==\r",
      "==Time 0.00==\n",
      "==iter 1==\r",
      "==iter 2==\r",
      "==Time 0.00==\n",
      "==iter 1==\r",
      "==iter 2==\r"
     ]
    },
    {
     "data": {
      "text/plain": [
       "[{'Q1': 20.425632762043424}, {'A': 9.325615686258269, 'B': 23.36004860708529}]"
      ]
     },
     "execution_count": 191,
     "metadata": {},
     "output_type": "execute_result"
    }
   ],
   "source": [
    "EE = get_trueskill(toy_data0,iter_time=2,record = False)\n",
    "#iter_time 迭代次数\n",
    "#record 是否记录中间过程\n",
    "EE"
   ]
  },
  {
   "cell_type": "code",
   "execution_count": 192,
   "metadata": {},
   "outputs": [
    {
     "name": "stdout",
     "output_type": "stream",
     "text": [
      "==iter 1==\r",
      "==iter 2==\r",
      "==iter 3==\r",
      "==iter 4==\r",
      "==iter 5==\r",
      "==iter 6==\r",
      "==iter 7==\r",
      "==iter 8==\r",
      "==iter 9==\r",
      "==iter 10==\r",
      "==iter 11==\r",
      "==iter 12==\r",
      "==iter 13==\r",
      "==iter 14==\r",
      "==iter 15==\r",
      "==iter 16==\r",
      "==iter 17==\r",
      "==iter 18==\r",
      "==iter 19==\r",
      "==iter 20==\r",
      "==Time 0.00==\n",
      "==iter 1==\r",
      "==iter 2==\r",
      "==iter 3==\r",
      "==iter 4==\r",
      "==iter 5==\r",
      "==iter 6==\r",
      "==iter 7==\r",
      "==iter 8==\r",
      "==iter 9==\r",
      "==iter 10==\r",
      "==iter 11==\r",
      "==iter 12==\r",
      "==iter 13==\r",
      "==iter 14==\r",
      "==iter 15==\r",
      "==iter 16==\r",
      "==iter 17==\r",
      "==iter 18==\r",
      "==iter 19==\r",
      "==iter 20==\r",
      "==Time 0.00==\n",
      "==iter 1==\r",
      "==iter 2==\r",
      "==iter 3==\r",
      "==iter 4==\r",
      "==iter 5==\r",
      "==iter 6==\r",
      "==iter 7==\r",
      "==iter 8==\r",
      "==iter 9==\r",
      "==iter 10==\r",
      "==iter 11==\r",
      "==iter 12==\r",
      "==iter 13==\r",
      "==iter 14==\r",
      "==iter 15==\r",
      "==iter 16==\r",
      "==iter 17==\r",
      "==iter 18==\r",
      "==iter 19==\r",
      "==iter 20==\r",
      "==Time 0.00==\n",
      "==iter 1==\r",
      "==iter 2==\r",
      "==iter 3==\r",
      "==iter 4==\r",
      "==iter 5==\r",
      "==iter 6==\r",
      "==iter 7==\r",
      "==iter 8==\r",
      "==iter 9==\r",
      "==iter 10==\r",
      "==iter 11==\r",
      "==iter 12==\r",
      "==iter 13==\r",
      "==iter 14==\r",
      "==iter 15==\r",
      "==iter 16==\r",
      "==iter 17==\r",
      "==iter 18==\r",
      "==iter 19==\r",
      "==iter 20==\r"
     ]
    }
   ],
   "source": [
    "iter_time = 20\n",
    "EE = get_trueskill(toy_data0,iter_time=iter_time ,record = True)\n",
    "#iter_time 迭代次数\n",
    "#record 是否记录中间过程"
   ]
  },
  {
   "cell_type": "code",
   "execution_count": 184,
   "metadata": {},
   "outputs": [],
   "source": [
    "x=[]\n",
    "for i in range(0,iter_time+1):\n",
    "    x.append([EE[i][1]['A'], EE[i][0]['Q1'],EE[i][1]['B']])"
   ]
  },
  {
   "cell_type": "code",
   "execution_count": 185,
   "metadata": {},
   "outputs": [],
   "source": [
    "import numpy as np\n",
    "x = np.array(x)"
   ]
  },
  {
   "cell_type": "code",
   "execution_count": 186,
   "metadata": {},
   "outputs": [
    {
     "data": {
      "text/plain": [
       "array([[10.        , 10.        , 10.        ],\n",
       "       [10.32486287,  9.21131699, 24.77033645],\n",
       "       [10.95759649,  9.64065722, 28.89781174],\n",
       "       [11.40056181, 10.01475884, 31.01958663],\n",
       "       [11.72525299, 10.31578738, 32.37125559],\n",
       "       [11.97639918, 10.56237554, 33.33344489],\n",
       "       [12.17878055, 10.76920417, 34.06647979],\n",
       "       [12.34694962, 10.94628391, 34.65105399],\n",
       "       [12.4900132 , 11.10047509, 35.13279447],\n",
       "       [12.61398528, 11.23660769, 35.53971647],\n",
       "       [12.72301658, 11.35818182, 35.89011358],\n",
       "       [12.82007763, 11.46780178, 36.1965157 ],\n",
       "       [12.90735938, 11.567451  , 36.46783893],\n",
       "       [12.98651927, 11.65867104, 36.71062899],\n",
       "       [13.05883848, 11.74268144, 36.92981794],\n",
       "       [13.12532591, 11.82046208, 37.12920459],\n",
       "       [13.18678894, 11.89281114, 37.31177059],\n",
       "       [13.24388289, 11.96038668, 37.47989469],\n",
       "       [13.29714632, 12.02373717, 37.63550199],\n",
       "       [13.34702677, 12.08332418, 37.78017016],\n",
       "       [13.39389984, 12.13953954, 37.91520672]])"
      ]
     },
     "execution_count": 186,
     "metadata": {},
     "output_type": "execute_result"
    }
   ],
   "source": [
    "x"
   ]
  },
  {
   "cell_type": "code",
   "execution_count": 187,
   "metadata": {},
   "outputs": [],
   "source": [
    "\n",
    "b = np.ones((iter_time+1,3))\n",
    "for i in range(iter_time+1):\n",
    "    b[i,:] = b[i,:]*x[i,1]\n",
    "x = x - b"
   ]
  },
  {
   "cell_type": "code",
   "execution_count": 188,
   "metadata": {},
   "outputs": [],
   "source": [
    "import matplotlib.pyplot as plt\n",
    "y = [i  for i in range(iter_time+1)]\n",
    "x1 = [x[i,0] for i in range(iter_time+1)]"
   ]
  },
  {
   "cell_type": "code",
   "execution_count": 189,
   "metadata": {},
   "outputs": [
    {
     "data": {
      "text/plain": [
       "Text(0, 0.5, 'iter_time')"
      ]
     },
     "execution_count": 189,
     "metadata": {},
     "output_type": "execute_result"
    },
    {
     "data": {
      "image/png": "[encoded data removed]",
      "text/plain": [
       "<Figure size 432x288 with 1 Axes>"
      ]
     },
     "metadata": {},
     "output_type": "display_data"
    }
   ],
   "source": [
    "import seaborn as sns\n",
    "sns.set(style=\"whitegrid\",  color_codes=True)\n",
    "f,ax = plt.subplots()\n",
    "name = ['A','Q','B']\n",
    "for j in range(3):\n",
    "    y = [i  for i in range(iter_time+1)]\n",
    "    x1 = [x[i,j] for i in range(iter_time+1)]\n",
    "    plt.plot(x1,y,'o--',ms=10,alpha=0.8,label = name[j])\n",
    "plt.legend()\n",
    "ax.yaxis.grid(True)\n",
    "ax.xaxis.grid(False)\n",
    "#plt.yticks(range(iter_time+1))\n",
    "ax.set_ylabel('iter_time',fontsize=20)"
   ]
  },
  {
   "cell_type": "code",
   "execution_count": null,
   "metadata": {},
   "outputs": [],
   "source": []
  },
  {
   "cell_type": "code",
   "execution_count": null,
   "metadata": {},
   "outputs": [],
   "source": []
  }
 ],
 "metadata": {
  "kernelspec": {
   "display_name": "Python 3",
   "language": "python",
   "name": "python3"
  },
  "language_info": {
   "codemirror_mode": {
    "name": "ipython",
    "version": 3
   },
   "file_extension": ".py",
   "mimetype": "text/x-python",
   "name": "python",
   "nbconvert_exporter": "python",
   "pygments_lexer": "ipython3",
   "version": "3.7.3"
  },
  "toc": {
   "nav_menu": {},
   "number_sections": true,
   "sideBar": true,
   "skip_h1_title": false,
   "toc_cell": false,
   "toc_position": {},
   "toc_section_display": "block",
   "toc_window_display": false
  }
 },
 "nbformat": 4,
 "nbformat_minor": 2
}
