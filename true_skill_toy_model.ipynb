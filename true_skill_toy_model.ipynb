{
 "cells": [
  {
   "cell_type": "markdown",
   "metadata": {},
   "source": [
    "A问了Q1，A、B、C、E回答了Q1,C回答被接受\n",
    "\n",
    "\n",
    "所以'Q1'>'A','C'>'Q1','C'>'A','C'>'B','C'>'E'\n",
    "\n",
    "\n",
    "以此类推\n",
    "\n",
    "\n",
    "Question：Q1,Q2,Q3,Q4 = -1,-2,-3,-4\n",
    "\n",
    "\n",
    "User：A,B,C,D,E = 1,2,3,4,5"
   ]
  },
  {
   "cell_type": "code",
   "execution_count": 1,
   "metadata": {},
   "outputs": [],
   "source": [
    "%load_ext autoreload\n",
    "%autoreload 2\n",
    "from trueskill import *"
   ]
  },
  {
   "cell_type": "code",
   "execution_count": 2,
   "metadata": {},
   "outputs": [],
   "source": [
    "#winner,loser\n",
    "#需要为问题注明Q\n",
    "toy_data0 = [('Q1','A'),('B','Q1'),('B','A'),]\n"
   ]
  },
  {
   "cell_type": "code",
   "execution_count": 3,
   "metadata": {},
   "outputs": [
    {
     "name": "stdout",
     "output_type": "stream",
     "text": [
      "==iter 1==\r",
      "==iter 2==\r",
      "==Time 0.00==\n",
      "==iter 1==\r",
      "==iter 2==\r",
      "==Time 0.00==\n",
      "==iter 1==\r",
      "==iter 2==\r",
      "==Time 0.00==\n",
      "==iter 1==\r",
      "==iter 2==\r"
     ]
    },
    {
     "data": {
      "text/plain": [
       "[{'Q1': 20.425632762043424}, {'A': 9.325615686258269, 'B': 23.36004860708529}]"
      ]
     },
     "execution_count": 3,
     "metadata": {},
     "output_type": "execute_result"
    }
   ],
   "source": [
    "EE = get_trueskill(toy_data0,iter_time=2,record = False)\n",
    "#iter_time 迭代次数\n",
    "#record 是否记录中间过程\n",
    "EE"
   ]
  },
  {
   "cell_type": "code",
   "execution_count": 4,
   "metadata": {},
   "outputs": [
    {
     "name": "stdout",
     "output_type": "stream",
     "text": [
      "==iter 1==\r",
      "==iter 2==\r",
      "==iter 3==\r",
      "==iter 4==\r",
      "==iter 5==\r",
      "==iter 6==\r",
      "==iter 7==\r",
      "==iter 8==\r",
      "==iter 9==\r",
      "==iter 10==\r",
      "==iter 11==\r",
      "==iter 12==\r",
      "==iter 13==\r",
      "==iter 14==\r",
      "==iter 15==\r",
      "==iter 16==\r",
      "==iter 17==\r",
      "==iter 18==\r",
      "==iter 19==\r",
      "==iter 20==\r",
      "==Time 0.00==\n",
      "==iter 1==\r",
      "==iter 2==\r",
      "==iter 3==\r",
      "==iter 4==\r",
      "==iter 5==\r",
      "==iter 6==\r",
      "==iter 7==\r",
      "==iter 8==\r",
      "==iter 9==\r",
      "==iter 10==\r",
      "==iter 11==\r",
      "==iter 12==\r",
      "==iter 13==\r",
      "==iter 14==\r",
      "==iter 15==\r",
      "==iter 16==\r",
      "==iter 17==\r",
      "==iter 18==\r",
      "==iter 19==\r",
      "==iter 20==\r",
      "==Time 0.00==\n",
      "==iter 1==\r",
      "==iter 2==\r",
      "==iter 3==\r",
      "==iter 4==\r",
      "==iter 5==\r",
      "==iter 6==\r",
      "==iter 7==\r",
      "==iter 8==\r",
      "==iter 9==\r",
      "==iter 10==\r",
      "==iter 11==\r",
      "==iter 12==\r",
      "==iter 13==\r",
      "==iter 14==\r",
      "==iter 15==\r",
      "==iter 16==\r",
      "==iter 17==\r",
      "==iter 18==\r",
      "==iter 19==\r",
      "==iter 20==\r",
      "==Time 0.00==\n",
      "==iter 1==\r",
      "==iter 2==\r",
      "==iter 3==\r",
      "==iter 4==\r",
      "==iter 5==\r",
      "==iter 6==\r",
      "==iter 7==\r",
      "==iter 8==\r",
      "==iter 9==\r",
      "==iter 10==\r",
      "==iter 11==\r",
      "==iter 12==\r",
      "==iter 13==\r",
      "==iter 14==\r",
      "==iter 15==\r",
      "==iter 16==\r",
      "==iter 17==\r",
      "==iter 18==\r",
      "==iter 19==\r",
      "==iter 20==\r"
     ]
    }
   ],
   "source": [
    "iter_time = 20\n",
    "EE = get_trueskill(toy_data0,iter_time=iter_time ,record = True)\n",
    "#iter_time 迭代次数\n",
    "#record 是否记录中间过程"
   ]
  },
  {
   "cell_type": "code",
   "execution_count": 5,
   "metadata": {},
   "outputs": [],
   "source": [
    "x=[]\n",
    "for i in range(0,iter_time+1):\n",
    "    x.append([EE[i][1]['A'], EE[i][0]['Q1'],EE[i][1]['B']])"
   ]
  },
  {
   "cell_type": "code",
   "execution_count": 6,
   "metadata": {},
   "outputs": [],
   "source": [
    "import numpy as np\n",
    "x = np.array(x)\n",
    "b = np.ones((iter_time+1,3))\n",
    "for i in range(iter_time+1):\n",
    "    b[i,:] = b[i,:]*x[i,1]\n",
    "x = x - b"
   ]
  },
  {
   "cell_type": "code",
   "execution_count": 9,
   "metadata": {},
   "outputs": [],
   "source": [
    "import matplotlib.pyplot as plt\n",
    "y = [i  for i in range(iter_time+1)]\n",
    "x1 = [x[i,0] for i in range(iter_time+1)]"
   ]
  },
  {
   "cell_type": "code",
   "execution_count": 10,
   "metadata": {},
   "outputs": [
    {
     "data": {
      "text/plain": [
       "Text(0, 0.5, 'iter_time')"
      ]
     },
     "execution_count": 10,
     "metadata": {},
     "output_type": "execute_result"
    },
    {
     "data": {
      "image/png": "[encoded data removed]",
      "text/plain": [
       "<Figure size 432x288 with 1 Axes>"
      ]
     },
     "metadata": {},
     "output_type": "display_data"
    }
   ],
   "source": [
    "import seaborn as sns\n",
    "sns.set(style=\"whitegrid\",  color_codes=True)\n",
    "f,ax = plt.subplots()\n",
    "name = ['A','Q','B']\n",
    "for j in range(3):\n",
    "    y = [i  for i in range(iter_time+1)]\n",
    "    x1 = [x[i,j] for i in range(iter_time+1)]\n",
    "    plt.plot(x1,y,'o--',ms=10,alpha=0.8,label = name[j])\n",
    "plt.legend()\n",
    "ax.yaxis.grid(True)\n",
    "ax.xaxis.grid(False)\n",
    "#plt.yticks(range(iter_time+1))\n",
    "ax.set_ylabel('iter_time',fontsize=20)"
   ]
  },
  {
   "cell_type": "code",
   "execution_count": null,
   "metadata": {},
   "outputs": [],
   "source": []
  },
  {
   "cell_type": "code",
   "execution_count": null,
   "metadata": {},
   "outputs": [],
   "source": []
  }
 ],
 "metadata": {
  "kernelspec": {
   "display_name": "Python 3",
   "language": "python",
   "name": "python3"
  },
  "language_info": {
   "codemirror_mode": {
    "name": "ipython",
    "version": 3
   },
   "file_extension": ".py",
   "mimetype": "text/x-python",
   "name": "python",
   "nbconvert_exporter": "python",
   "pygments_lexer": "ipython3",
   "version": "3.7.3"
  },
  "toc": {
   "nav_menu": {},
   "number_sections": true,
   "sideBar": true,
   "skip_h1_title": false,
   "toc_cell": false,
   "toc_position": {},
   "toc_section_display": "block",
   "toc_window_display": false
  }
 },
 "nbformat": 4,
 "nbformat_minor": 2
}
