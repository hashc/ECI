{
 "cells": [
  {
   "cell_type": "markdown",
   "metadata": {},
   "source": [
    "A问了Q1，A、B、C、E回答了Q1,C回答被接受\n",
    "\n",
    "\n",
    "所以'Q1'>'A','C'>'Q1','C'>'A','C'>'B','C'>'E'\n",
    "\n",
    "\n",
    "以此类推\n",
    "\n",
    "\n",
    "Question：Q1,Q2,Q3,Q4 = -1,-2,-3,-4\n",
    "\n",
    "\n",
    "User：A,B,C,D,E = 1,2,3,4,5"
   ]
  },
  {
   "cell_type": "code",
   "execution_count": 2,
   "metadata": {},
   "outputs": [],
   "source": [
    "%load_ext autoreload\n",
    "%autoreload 2\n",
    "from trueskill import *"
   ]
  },
  {
   "cell_type": "code",
   "execution_count": 3,
   "metadata": {},
   "outputs": [],
   "source": [
    "#winner,loser\n",
    "#需要为问题注明Q\n",
    "toy_data0 = [('Q1','A'),('C','Q1'),('C','A'),('C','B'),('C','E'),\n",
    "             ('Q2','B'),('A','Q2'),('A','B'),('A','C'),('A','E'),\n",
    "             ('Q3','C'),('A','Q3'), ('A','C'),('A','E'),\n",
    "             ('Q4','D'),('E','Q4'),('E','D')]"
   ]
  },
  {
   "cell_type": "code",
   "execution_count": 6,
   "metadata": {},
   "outputs": [
    {
     "name": "stdout",
     "output_type": "stream",
     "text": [
      "==iter 1==\r",
      "==iter 2==\r",
      "==Time 0.00==\n",
      "==iter 1==\r",
      "==iter 2==\r"
     ]
    },
    {
     "data": {
      "text/plain": [
       "[{'Q1': 23.374725212549325,\n",
       "  'Q2': 29.643351685229845,\n",
       "  'Q3': 27.49433053385494,\n",
       "  'Q4': 30.083874783697794},\n",
       " {'A': 9.951115388440703,\n",
       "  'C': 32.10535672284796,\n",
       "  'B': 11.435976176653572,\n",
       "  'E': 11.41908072847622,\n",
       "  'D': 10.931478041225555}]"
      ]
     },
     "execution_count": 6,
     "metadata": {},
     "output_type": "execute_result"
    }
   ],
   "source": [
    "EE = get_trueskill(toy_data0,iter_time=2,record = False)\n",
    "#iter_time 迭代次数\n",
    "#record 是否记录中间过程\n",
    "EE"
   ]
  },
  {
   "cell_type": "code",
   "execution_count": 130,
   "metadata": {},
   "outputs": [
    {
     "name": "stdout",
     "output_type": "stream",
     "text": [
      "==iter 1==\r",
      "==iter 2==\r"
     ]
    },
    {
     "data": {
      "text/plain": [
       "{0: [{'Q1': 10.0, 'Q2': 10.0, 'Q3': 10.0, 'Q4': 10.0},\n",
       "  {'A': 10.0, 'C': 10.0, 'B': 10.0, 'E': 10.0, 'D': 10.0}],\n",
       " 1: [{'Q1': 17.621710709970458,\n",
       "   'Q2': 25.568790634931915,\n",
       "   'Q3': 21.88587255819472,\n",
       "   'Q4': 23.564196064437734},\n",
       "  {'A': 8.931541604123758,\n",
       "   'C': 26.358068068399053,\n",
       "   'B': 10.195474753803285,\n",
       "   'E': 10.437815272020293,\n",
       "   'D': 9.590421708090094}],\n",
       " 2: [{'Q1': 20.425632762043424,\n",
       "   'Q2': 27.78228412213475,\n",
       "   'Q3': 24.90577149736835,\n",
       "   'Q4': 27.116694712418774},\n",
       "  {'A': 9.387442588378857,\n",
       "   'C': 29.404486011347025,\n",
       "   'B': 10.703465484375673,\n",
       "   'E': 10.941460102330185,\n",
       "   'D': 10.211728625124962}]}"
      ]
     },
     "execution_count": 130,
     "metadata": {},
     "output_type": "execute_result"
    }
   ],
   "source": [
    "EE = get_trueskill(toy_data0,iter_time=2,record = True)\n",
    "#iter_time 迭代次数\n",
    "#record 是否记录中间过程\n",
    "EE"
   ]
  },
  {
   "cell_type": "code",
   "execution_count": null,
   "metadata": {},
   "outputs": [],
   "source": []
  }
 ],
 "metadata": {
  "kernelspec": {
   "display_name": "Python 3",
   "language": "python",
   "name": "python3"
  },
  "language_info": {
   "codemirror_mode": {
    "name": "ipython",
    "version": 3
   },
   "file_extension": ".py",
   "mimetype": "text/x-python",
   "name": "python",
   "nbconvert_exporter": "python",
   "pygments_lexer": "ipython3",
   "version": "3.7.3"
  },
  "toc": {
   "nav_menu": {},
   "number_sections": true,
   "sideBar": true,
   "skip_h1_title": false,
   "toc_cell": false,
   "toc_position": {},
   "toc_section_display": "block",
   "toc_window_display": false
  }
 },
 "nbformat": 4,
 "nbformat_minor": 2
}
