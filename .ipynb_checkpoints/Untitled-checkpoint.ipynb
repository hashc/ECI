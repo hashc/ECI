{
 "cells": [
  {
   "cell_type": "code",
   "execution_count": 2,
   "metadata": {},
   "outputs": [],
   "source": [
    "import time\n",
    "def timelogger(func):\n",
    "    def inner(*args, **kwargs): #1\n",
    "        start = time.perf_counter()\n",
    "        res = func(*args, **kwargs) \n",
    "        print(\"==Time %.2f==\"%res)\n",
    "        return func(*args, **kwargs) #2\n",
    "    return inner\n",
    "@timelogger\n",
    "def matAB(links, size):\n",
    "    country_size, product_size = size\n",
    "    out_degree_country = [0] * country_size\n",
    "    out_degree_product = [0] * product_size\n",
    "    \n",
    "    for i,j in links:\n",
    "        out_degree_country[i] += 1\n",
    "        out_degree_product[j] += 1\n",
    "    #print('degree counted')\n",
    "    matA = sparse.dok_matrix((country_size,product_size))\n",
    "    matB = sparse.dok_matrix((country_size, product_size))\n",
    "    #print('initial matrix')\n",
    "    for i,j in links:\n",
    "        matA[i, j] = 1. / out_degree_country[i]\n",
    "        matB[i, j] = 1. / out_degree_product[j]\n",
    "    #print('mat made')\n",
    "    return matA, matB.T, out_degree_country, out_degree_product\n",
    "@timelogger\n",
    "def IterProcess(matA, matB, initC, initP, n=1):\n",
    "    eci = np.array(initC)\n",
    "    pci = np.array(initP)\n",
    "    dt = int(n / 10)\n",
    "    \n",
    "    for i in range(n):\n",
    "        eci = matA * pci\n",
    "        pci = matB * eci\n",
    "        \n",
    "        eci = matA * pci\n",
    "        pci = matB * eci\n",
    "        \n",
    "        eci = eci - np.mean(eci)\n",
    "        eci = eci / np.std(eci)\n",
    "        pci = pci - np.mean(pci)\n",
    "        pci = pci / np.std(pci)\n",
    "        if (i + 1) % dt == 0:\n",
    "            print(100 * (i + 1) / n, '%')\n",
    "    pci = matB * eci\n",
    "    pci = pci - np.mean(pci)\n",
    "    pci = pci / np.std(pci)\n",
    "    \n",
    "    return eci, pci\n",
    "\n",
    "def ECI_PCI(links, size, iter_n=1):\n",
    "    print('making matrix...')\n",
    "    ma, mb, initc, initp = matAB(links, size)\n",
    "    print('computing eci & pci...')\n",
    "    return IterProcess(ma, mb, initc, initp, n=iter_n)\n"
   ]
  },
  {
   "cell_type": "code",
   "execution_count": null,
   "metadata": {},
   "outputs": [],
   "source": []
  }
 ],
 "metadata": {
  "kernelspec": {
   "display_name": "Python 3",
   "language": "python",
   "name": "python3"
  },
  "language_info": {
   "codemirror_mode": {
    "name": "ipython",
    "version": 3
   },
   "file_extension": ".py",
   "mimetype": "text/x-python",
   "name": "python",
   "nbconvert_exporter": "python",
   "pygments_lexer": "ipython3",
   "version": "3.7.3"
  }
 },
 "nbformat": 4,
 "nbformat_minor": 2
}
