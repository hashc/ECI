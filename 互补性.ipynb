{
 "cells": [
  {
   "cell_type": "code",
   "execution_count": 6,
   "metadata": {},
   "outputs": [
    {
     "name": "stdout",
     "output_type": "stream",
     "text": [
      "The autoreload extension is already loaded. To reload it, use:\n",
      "  %reload_ext autoreload\n"
     ]
    }
   ],
   "source": [
    "%load_ext autoreload\n",
    "%autoreload 2\n",
    "import pandas as pd\n",
    "import scipy.sparse.linalg \n",
    "import scipy\n",
    "from scipy import sparse\n",
    "import numpy as np\n",
    "df = pd.read_csv('./data/country_sitcproduct2digit_year.csv',low_memory=False)"
   ]
  },
  {
   "cell_type": "code",
   "execution_count": 10,
   "metadata": {},
   "outputs": [],
   "source": [
    "from ECI import *"
   ]
  },
  {
   "cell_type": "code",
   "execution_count": 2,
   "metadata": {},
   "outputs": [],
   "source": [
    "year =2017\n",
    "df_year = df[df['year']==year]\n",
    "df_year = df_year.drop_duplicates()\n",
    "df_year = df_year.fillna(0.)"
   ]
  },
  {
   "cell_type": "code",
   "execution_count": 4,
   "metadata": {},
   "outputs": [],
   "source": [
    "df_gdp = pd.read_csv('./data/API_NY.GDP.PCAP.CD_DS2_en_csv_v2_41089.csv', sep = '\\t')\n",
    "df_g = df_gdp[['Country Code', str(year)]]\n",
    "gdp_dict =dict(zip(df_g['Country Code'],df_g[str(year)]))"
   ]
  },
  {
   "cell_type": "code",
   "execution_count": 7,
   "metadata": {},
   "outputs": [],
   "source": [
    "x = list(df_year[\"location_code\"])\n",
    "y = list(df_year[\"sitc_product_code\"])\n",
    "data = np.array(list(df_year[\"export_value\"]))\n",
    "sx = list(set(x))\n",
    "sy =list(set(y))\n",
    "dx = dict(zip(sx,range(len(sx))))\n",
    "dy = dict(zip(sy,range(len(sy))))\n",
    "x1 = [dx[xi] for xi in x]\n",
    "y1 = [dy[yi] for yi in y]"
   ]
  },
  {
   "cell_type": "code",
   "execution_count": 8,
   "metadata": {},
   "outputs": [],
   "source": [
    "M = sparse.csc_matrix((data,(x1,y1)),(len(dx),len(dy)))"
   ]
  },
  {
   "cell_type": "code",
   "execution_count": 11,
   "metadata": {},
   "outputs": [
    {
     "name": "stdout",
     "output_type": "stream",
     "text": [
      "==Time 0.01==\n"
     ]
    },
    {
     "name": "stderr",
     "output_type": "stream",
     "text": [
      "/home/superman/anaconda3/lib/python3.7/site-packages/scipy/sparse/compressed.py:208: RuntimeWarning: invalid value encountered in greater_equal\n",
      "  res = self._with_data(op(self.data, other), copy=True)\n",
      "/home/superman/anaconda3/lib/python3.7/site-packages/scipy/sparse/compressed.py:282: SparseEfficiencyWarning: Comparing a sparse matrix with a scalar greater than zero using < is inefficient, try using >= instead.\n",
      "  warn(bad_scalar_msg, SparseEfficiencyWarning)\n"
     ]
    }
   ],
   "source": [
    "R = RCA_sparse(M)"
   ]
  },
  {
   "cell_type": "code",
   "execution_count": 20,
   "metadata": {},
   "outputs": [],
   "source": [
    "a=np.nansum(R)"
   ]
  },
  {
   "cell_type": "code",
   "execution_count": 23,
   "metadata": {},
   "outputs": [],
   "source": [
    "R."
   ]
  },
  {
   "cell_type": "code",
   "execution_count": 33,
   "metadata": {},
   "outputs": [
    {
     "data": {
      "text/plain": [
       "array([ 16.,  24., 101.,  59.,  57.,  64.,  42.,  15.,  27.,  50.,  31.,\n",
       "         1.,  66.,  96.,  80.,  76.,  36.,  69.,  45.,  49.,  15.,  17.,\n",
       "        52.,  67.,  56.,  56.,  66.,  24.,  32.,  34.,  33.,  28.,  49.,\n",
       "        39.,  42.,  99.,  52.,  20.,  46.,  19.,  38.,  46.,  35.,  31.,\n",
       "        57.,  31.,  48.,  25.,  28.,  18.,  52.,   4.,  46.,  20.,  36.,\n",
       "        30.,  69.,  17.,  28.,  61.,  61.,  42.,  26.,  77.,  29.,  42.,\n",
       "        60.,  52.,  31.,  71.,  57.,  33.,  45.,  52.])"
      ]
     },
     "execution_count": 33,
     "metadata": {},
     "output_type": "execute_result"
    }
   ],
   "source": [
    "np.nansum(R.toarray(),0)"
   ]
  },
  {
   "cell_type": "code",
   "execution_count": 41,
   "metadata": {},
   "outputs": [
    {
     "data": {
      "text/plain": [
       "array([ 6., 11.])"
      ]
     },
     "execution_count": 41,
     "metadata": {},
     "output_type": "execute_result"
    }
   ],
   "source": [
    "np.nansum([[1,2,3,np.nan],[np.nan,2,4,5]],1)"
   ]
  },
  {
   "cell_type": "code",
   "execution_count": 42,
   "metadata": {},
   "outputs": [],
   "source": [
    "import gensim"
   ]
  },
  {
   "cell_type": "code",
   "execution_count": null,
   "metadata": {},
   "outputs": [],
   "source": [
    "model = Word2Vec(common_texts, size=100, window=5, min_count=1, workers=4)"
   ]
  }
 ],
 "metadata": {
  "kernelspec": {
   "display_name": "Python 3",
   "language": "python",
   "name": "python3"
  },
  "language_info": {
   "codemirror_mode": {
    "name": "ipython",
    "version": 3
   },
   "file_extension": ".py",
   "mimetype": "text/x-python",
   "name": "python",
   "nbconvert_exporter": "python",
   "pygments_lexer": "ipython3",
   "version": "3.7.3"
  }
 },
 "nbformat": 4,
 "nbformat_minor": 2
}
